{
  "nbformat": 4,
  "nbformat_minor": 0,
  "metadata": {
    "colab": {
      "provenance": []
    },
    "kernelspec": {
      "name": "python3",
      "display_name": "Python 3"
    },
    "language_info": {
      "name": "python"
    }
  },
  "cells": [
    {
      "cell_type": "code",
      "source": [
        "\n",
        "!pip install nltk\n"
      ],
      "metadata": {
        "colab": {
          "base_uri": "https://localhost:8080/"
        },
        "id": "9UgjAad_sCyF",
        "outputId": "b7872802-6510-4363-a1e7-dfc7177f7bc0"
      },
      "execution_count": null,
      "outputs": [
        {
          "output_type": "stream",
          "name": "stdout",
          "text": [
            "Requirement already satisfied: nltk in /usr/local/lib/python3.10/dist-packages (3.8.1)\n",
            "Requirement already satisfied: click in /usr/local/lib/python3.10/dist-packages (from nltk) (8.1.7)\n",
            "Requirement already satisfied: joblib in /usr/local/lib/python3.10/dist-packages (from nltk) (1.3.2)\n",
            "Requirement already satisfied: regex>=2021.8.3 in /usr/local/lib/python3.10/dist-packages (from nltk) (2023.6.3)\n",
            "Requirement already satisfied: tqdm in /usr/local/lib/python3.10/dist-packages (from nltk) (4.66.1)\n"
          ]
        }
      ]
    },
    {
      "cell_type": "code",
      "source": [
        "import nltk\n",
        "\n",
        "\n",
        "nltk.download()\n"
      ],
      "metadata": {
        "colab": {
          "base_uri": "https://localhost:8080/"
        },
        "id": "LCtYuisksOob",
        "outputId": "4709059d-1db0-4e4e-b345-4c80aceabaca"
      },
      "execution_count": null,
      "outputs": [
        {
          "name": "stdout",
          "output_type": "stream",
          "text": [
            "NLTK Downloader\n",
            "---------------------------------------------------------------------------\n",
            "    d) Download   l) List    u) Update   c) Config   h) Help   q) Quit\n",
            "---------------------------------------------------------------------------\n",
            "Downloader> d\n",
            "\n",
            "Download which package (l=list; x=cancel)?\n",
            "  Identifier> punkt\n"
          ]
        },
        {
          "output_type": "stream",
          "name": "stderr",
          "text": [
            "    Downloading package punkt to /root/nltk_data...\n",
            "      Unzipping tokenizers/punkt.zip.\n"
          ]
        },
        {
          "name": "stdout",
          "output_type": "stream",
          "text": [
            "\n",
            "---------------------------------------------------------------------------\n",
            "    d) Download   l) List    u) Update   c) Config   h) Help   q) Quit\n",
            "---------------------------------------------------------------------------\n",
            "Downloader> q\n"
          ]
        },
        {
          "output_type": "execute_result",
          "data": {
            "text/plain": [
              "True"
            ]
          },
          "metadata": {},
          "execution_count": 2
        }
      ]
    },
    {
      "cell_type": "code",
      "source": [
        "from nltk.tokenize import sent_tokenize\n",
        "\n",
        "\n",
        "text = 'Hello Everyone. This is Preet Raut pursuing Computer Science Engineering(Data Science) from Vidyavardhinis College Of Engineering and Technology'\n",
        "\n",
        "\n",
        "text"
      ],
      "metadata": {
        "colab": {
          "base_uri": "https://localhost:8080/",
          "height": 53
        },
        "id": "o_UGStaWsS9x",
        "outputId": "ae2275ff-a95d-4581-8fdf-f7d277ebd31b"
      },
      "execution_count": null,
      "outputs": [
        {
          "output_type": "execute_result",
          "data": {
            "text/plain": [
              "'Hello Everyone. This is Preet Raut pursuing Computer Science Engineering(Data Science) from Vidyavardhinis College Of Engineering and Technology'"
            ],
            "application/vnd.google.colaboratory.intrinsic+json": {
              "type": "string"
            }
          },
          "metadata": {},
          "execution_count": 4
        }
      ]
    },
    {
      "cell_type": "code",
      "source": [
        "sentences = sent_tokenize (text)\n",
        "\n",
        "\n",
        "sentences\n",
        "\n"
      ],
      "metadata": {
        "colab": {
          "base_uri": "https://localhost:8080/"
        },
        "id": "nU-dnw1sskne",
        "outputId": "7040645e-2c37-4069-fdb1-733a39dbb4d2"
      },
      "execution_count": null,
      "outputs": [
        {
          "output_type": "execute_result",
          "data": {
            "text/plain": [
              "['Hello Everyone.',\n",
              " 'This is Preet Raut pursuing Computer Science Engineering(Data Science) from Vidyavardhinis College Of Engineering and Technology']"
            ]
          },
          "metadata": {},
          "execution_count": 5
        }
      ]
    },
    {
      "cell_type": "code",
      "source": [
        "from nltk.tokenize import word_tokenize\n",
        "\n",
        "\n",
        "words = word_tokenize (text)\n",
        "\n",
        "\n",
        "words\n"
      ],
      "metadata": {
        "colab": {
          "base_uri": "https://localhost:8080/"
        },
        "id": "QSbJsTonsuB1",
        "outputId": "3755819a-bf9f-4d03-f6cc-e8ec5a9b4879"
      },
      "execution_count": null,
      "outputs": [
        {
          "output_type": "execute_result",
          "data": {
            "text/plain": [
              "['Hello',\n",
              " 'Everyone',\n",
              " '.',\n",
              " 'This',\n",
              " 'is',\n",
              " 'Preet',\n",
              " 'Raut',\n",
              " 'pursuing',\n",
              " 'Computer',\n",
              " 'Science',\n",
              " 'Engineering',\n",
              " '(',\n",
              " 'Data',\n",
              " 'Science',\n",
              " ')',\n",
              " 'from',\n",
              " 'Vidyavardhinis',\n",
              " 'College',\n",
              " 'Of',\n",
              " 'Engineering',\n",
              " 'and',\n",
              " 'Technology']"
            ]
          },
          "metadata": {},
          "execution_count": 6
        }
      ]
    },
    {
      "cell_type": "code",
      "source": [
        "for w in words:\n",
        "    print (w)"
      ],
      "metadata": {
        "colab": {
          "base_uri": "https://localhost:8080/"
        },
        "id": "B7WmWDNCszzl",
        "outputId": "d43304ff-8649-4040-f5c9-f48f32c16d61"
      },
      "execution_count": null,
      "outputs": [
        {
          "output_type": "stream",
          "name": "stdout",
          "text": [
            "Hello\n",
            "Everyone\n",
            ".\n",
            "This\n",
            "is\n",
            "Preet\n",
            "Raut\n",
            "pursuing\n",
            "Computer\n",
            "Science\n",
            "Engineering\n",
            "(\n",
            "Data\n",
            "Science\n",
            ")\n",
            "from\n",
            "Vidyavardhinis\n",
            "College\n",
            "Of\n",
            "Engineering\n",
            "and\n",
            "Technology\n"
          ]
        }
      ]
    },
    {
      "cell_type": "code",
      "source": [
        "sent_tokenize (text)"
      ],
      "metadata": {
        "colab": {
          "base_uri": "https://localhost:8080/"
        },
        "id": "FfJZdbfes4dx",
        "outputId": "0e591528-149e-49cc-b579-c502840eb35d"
      },
      "execution_count": null,
      "outputs": [
        {
          "output_type": "execute_result",
          "data": {
            "text/plain": [
              "['Hello Everyone.',\n",
              " 'This is Preet Raut pursuing Computer Science Engineering(Data Science) from Vidyavardhinis College Of Engineering and Technology']"
            ]
          },
          "metadata": {},
          "execution_count": 8
        }
      ]
    },
    {
      "cell_type": "code",
      "source": [
        "[word_tokenize (text) for t in sent_tokenize(text)]"
      ],
      "metadata": {
        "colab": {
          "base_uri": "https://localhost:8080/"
        },
        "id": "yyMMcvWUs8Y0",
        "outputId": "06d46fb7-8545-4c46-b947-8ca1c9075de2"
      },
      "execution_count": null,
      "outputs": [
        {
          "output_type": "execute_result",
          "data": {
            "text/plain": [
              "[['Hello',\n",
              "  'Everyone',\n",
              "  '.',\n",
              "  'This',\n",
              "  'is',\n",
              "  'Preet',\n",
              "  'Raut',\n",
              "  'pursuing',\n",
              "  'Computer',\n",
              "  'Science',\n",
              "  'Engineering',\n",
              "  '(',\n",
              "  'Data',\n",
              "  'Science',\n",
              "  ')',\n",
              "  'from',\n",
              "  'Vidyavardhinis',\n",
              "  'College',\n",
              "  'Of',\n",
              "  'Engineering',\n",
              "  'and',\n",
              "  'Technology'],\n",
              " ['Hello',\n",
              "  'Everyone',\n",
              "  '.',\n",
              "  'This',\n",
              "  'is',\n",
              "  'Preet',\n",
              "  'Raut',\n",
              "  'pursuing',\n",
              "  'Computer',\n",
              "  'Science',\n",
              "  'Engineering',\n",
              "  '(',\n",
              "  'Data',\n",
              "  'Science',\n",
              "  ')',\n",
              "  'from',\n",
              "  'Vidyavardhinis',\n",
              "  'College',\n",
              "  'Of',\n",
              "  'Engineering',\n",
              "  'and',\n",
              "  'Technology']]"
            ]
          },
          "metadata": {},
          "execution_count": 9
        }
      ]
    },
    {
      "cell_type": "code",
      "source": [
        "\n",
        "from nltk.tokenize import wordpunct_tokenize\n",
        "\n",
        "\n",
        "wordpunct_tokenize (text)"
      ],
      "metadata": {
        "colab": {
          "base_uri": "https://localhost:8080/"
        },
        "id": "MO65b9mztAgo",
        "outputId": "fb5dd1df-3254-4f52-ef22-50bbfa4dd929"
      },
      "execution_count": null,
      "outputs": [
        {
          "output_type": "execute_result",
          "data": {
            "text/plain": [
              "['Hello',\n",
              " 'Everyone',\n",
              " '.',\n",
              " 'This',\n",
              " 'is',\n",
              " 'Preet',\n",
              " 'Raut',\n",
              " 'pursuing',\n",
              " 'Computer',\n",
              " 'Science',\n",
              " 'Engineering',\n",
              " '(',\n",
              " 'Data',\n",
              " 'Science',\n",
              " ')',\n",
              " 'from',\n",
              " 'Vidyavardhinis',\n",
              " 'College',\n",
              " 'Of',\n",
              " 'Engineering',\n",
              " 'and',\n",
              " 'Technology']"
            ]
          },
          "metadata": {},
          "execution_count": 10
        }
      ]
    },
    {
      "cell_type": "code",
      "source": [
        "\n",
        "text.lower()"
      ],
      "metadata": {
        "colab": {
          "base_uri": "https://localhost:8080/",
          "height": 53
        },
        "id": "ETFp8cIZtEJ9",
        "outputId": "40b0edb0-e95b-4047-b5e0-2aa507f4e1ac"
      },
      "execution_count": null,
      "outputs": [
        {
          "output_type": "execute_result",
          "data": {
            "text/plain": [
              "'hello everyone. this is preet raut pursuing computer science engineering(data science) from vidyavardhinis college of engineering and technology'"
            ],
            "application/vnd.google.colaboratory.intrinsic+json": {
              "type": "string"
            }
          },
          "metadata": {},
          "execution_count": 11
        }
      ]
    },
    {
      "cell_type": "code",
      "source": [
        "\n",
        "text.upper()"
      ],
      "metadata": {
        "colab": {
          "base_uri": "https://localhost:8080/",
          "height": 53
        },
        "id": "hx5FSl-8tItG",
        "outputId": "d94400d7-8be9-497a-f84f-cfe422f76d82"
      },
      "execution_count": null,
      "outputs": [
        {
          "output_type": "execute_result",
          "data": {
            "text/plain": [
              "'HELLO EVERYONE. THIS IS PREET RAUT PURSUING COMPUTER SCIENCE ENGINEERING(DATA SCIENCE) FROM VIDYAVARDHINIS COLLEGE OF ENGINEERING AND TECHNOLOGY'"
            ],
            "application/vnd.google.colaboratory.intrinsic+json": {
              "type": "string"
            }
          },
          "metadata": {},
          "execution_count": 12
        }
      ]
    }
  ]
}